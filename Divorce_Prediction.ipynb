{
  "cells": [
    {
      "metadata": {},
      "cell_type": "markdown",
      "source": "# Gaurav Sethi\n## EB01\n## E17CSE146"
    },
    {
      "metadata": {
        "trusted": true
      },
      "cell_type": "code",
      "source": "# linear algebra\nimport numpy as np\n\n# data processing\nimport pandas as pd\n\n# data visualization \nimport matplotlib.pyplot as plt\n\n# Algorithms\nfrom sklearn.model_selection import train_test_split\nfrom sklearn.ensemble import RandomForestClassifier\nfrom sklearn.metrics import accuracy_score\nfrom sklearn.naive_bayes import GaussianNB\nfrom sklearn import svm\nfrom sklearn.linear_model import LogisticRegression\nfrom sklearn.tree import DecisionTreeClassifier\nfrom sklearn.linear_model import Perceptron\n",
      "execution_count": 32,
      "outputs": []
    },
    {
      "metadata": {},
      "cell_type": "markdown",
      "source": "# Data Preprocessing"
    },
    {
      "metadata": {
        "trusted": true
      },
      "cell_type": "code",
      "source": "data = pd.read_excel('divorce.xlsx')",
      "execution_count": 33,
      "outputs": []
    },
    {
      "metadata": {
        "scrolled": true,
        "trusted": true
      },
      "cell_type": "code",
      "source": "data.head()",
      "execution_count": 34,
      "outputs": [
        {
          "output_type": "execute_result",
          "execution_count": 34,
          "data": {
            "text/html": "<div>\n<table border=\"1\" class=\"dataframe\">\n  <thead>\n    <tr style=\"text-align: right;\">\n      <th></th>\n      <th>Atr1</th>\n      <th>Atr2</th>\n      <th>Atr3</th>\n      <th>Atr4</th>\n      <th>Atr5</th>\n      <th>Atr6</th>\n      <th>Atr7</th>\n      <th>Atr8</th>\n      <th>Atr9</th>\n      <th>Atr10</th>\n      <th>...</th>\n      <th>Atr46</th>\n      <th>Atr47</th>\n      <th>Atr48</th>\n      <th>Atr49</th>\n      <th>Atr50</th>\n      <th>Atr51</th>\n      <th>Atr52</th>\n      <th>Atr53</th>\n      <th>Atr54</th>\n      <th>Class</th>\n    </tr>\n  </thead>\n  <tbody>\n    <tr>\n      <th>0</th>\n      <td>2</td>\n      <td>2</td>\n      <td>4</td>\n      <td>1</td>\n      <td>0</td>\n      <td>0</td>\n      <td>0</td>\n      <td>0</td>\n      <td>0</td>\n      <td>0</td>\n      <td>...</td>\n      <td>2</td>\n      <td>1</td>\n      <td>3</td>\n      <td>3</td>\n      <td>3</td>\n      <td>2</td>\n      <td>3</td>\n      <td>2</td>\n      <td>1</td>\n      <td>1</td>\n    </tr>\n    <tr>\n      <th>1</th>\n      <td>4</td>\n      <td>4</td>\n      <td>4</td>\n      <td>4</td>\n      <td>4</td>\n      <td>0</td>\n      <td>0</td>\n      <td>4</td>\n      <td>4</td>\n      <td>4</td>\n      <td>...</td>\n      <td>2</td>\n      <td>2</td>\n      <td>3</td>\n      <td>4</td>\n      <td>4</td>\n      <td>4</td>\n      <td>4</td>\n      <td>2</td>\n      <td>2</td>\n      <td>1</td>\n    </tr>\n    <tr>\n      <th>2</th>\n      <td>2</td>\n      <td>2</td>\n      <td>2</td>\n      <td>2</td>\n      <td>1</td>\n      <td>3</td>\n      <td>2</td>\n      <td>1</td>\n      <td>1</td>\n      <td>2</td>\n      <td>...</td>\n      <td>3</td>\n      <td>2</td>\n      <td>3</td>\n      <td>1</td>\n      <td>1</td>\n      <td>1</td>\n      <td>2</td>\n      <td>2</td>\n      <td>2</td>\n      <td>1</td>\n    </tr>\n    <tr>\n      <th>3</th>\n      <td>3</td>\n      <td>2</td>\n      <td>3</td>\n      <td>2</td>\n      <td>3</td>\n      <td>3</td>\n      <td>3</td>\n      <td>3</td>\n      <td>3</td>\n      <td>3</td>\n      <td>...</td>\n      <td>2</td>\n      <td>2</td>\n      <td>3</td>\n      <td>3</td>\n      <td>3</td>\n      <td>3</td>\n      <td>2</td>\n      <td>2</td>\n      <td>2</td>\n      <td>1</td>\n    </tr>\n    <tr>\n      <th>4</th>\n      <td>2</td>\n      <td>2</td>\n      <td>1</td>\n      <td>1</td>\n      <td>1</td>\n      <td>1</td>\n      <td>0</td>\n      <td>0</td>\n      <td>0</td>\n      <td>0</td>\n      <td>...</td>\n      <td>2</td>\n      <td>1</td>\n      <td>2</td>\n      <td>3</td>\n      <td>2</td>\n      <td>2</td>\n      <td>2</td>\n      <td>1</td>\n      <td>0</td>\n      <td>1</td>\n    </tr>\n  </tbody>\n</table>\n<p>5 rows × 55 columns</p>\n</div>",
            "text/plain": "   Atr1  Atr2  Atr3  Atr4  Atr5  Atr6  Atr7  Atr8  Atr9  Atr10  ...    Atr46  \\\n0     2     2     4     1     0     0     0     0     0      0  ...        2   \n1     4     4     4     4     4     0     0     4     4      4  ...        2   \n2     2     2     2     2     1     3     2     1     1      2  ...        3   \n3     3     2     3     2     3     3     3     3     3      3  ...        2   \n4     2     2     1     1     1     1     0     0     0      0  ...        2   \n\n   Atr47  Atr48  Atr49  Atr50  Atr51  Atr52  Atr53  Atr54  Class  \n0      1      3      3      3      2      3      2      1      1  \n1      2      3      4      4      4      4      2      2      1  \n2      2      3      1      1      1      2      2      2      1  \n3      2      3      3      3      3      2      2      2      1  \n4      1      2      3      2      2      2      1      0      1  \n\n[5 rows x 55 columns]"
          },
          "metadata": {}
        }
      ]
    },
    {
      "metadata": {
        "trusted": true
      },
      "cell_type": "code",
      "source": "X = data.iloc[:,:-1]",
      "execution_count": 35,
      "outputs": []
    },
    {
      "metadata": {
        "trusted": true
      },
      "cell_type": "code",
      "source": "X.head()",
      "execution_count": 36,
      "outputs": [
        {
          "output_type": "execute_result",
          "execution_count": 36,
          "data": {
            "text/html": "<div>\n<table border=\"1\" class=\"dataframe\">\n  <thead>\n    <tr style=\"text-align: right;\">\n      <th></th>\n      <th>Atr1</th>\n      <th>Atr2</th>\n      <th>Atr3</th>\n      <th>Atr4</th>\n      <th>Atr5</th>\n      <th>Atr6</th>\n      <th>Atr7</th>\n      <th>Atr8</th>\n      <th>Atr9</th>\n      <th>Atr10</th>\n      <th>...</th>\n      <th>Atr45</th>\n      <th>Atr46</th>\n      <th>Atr47</th>\n      <th>Atr48</th>\n      <th>Atr49</th>\n      <th>Atr50</th>\n      <th>Atr51</th>\n      <th>Atr52</th>\n      <th>Atr53</th>\n      <th>Atr54</th>\n    </tr>\n  </thead>\n  <tbody>\n    <tr>\n      <th>0</th>\n      <td>2</td>\n      <td>2</td>\n      <td>4</td>\n      <td>1</td>\n      <td>0</td>\n      <td>0</td>\n      <td>0</td>\n      <td>0</td>\n      <td>0</td>\n      <td>0</td>\n      <td>...</td>\n      <td>3</td>\n      <td>2</td>\n      <td>1</td>\n      <td>3</td>\n      <td>3</td>\n      <td>3</td>\n      <td>2</td>\n      <td>3</td>\n      <td>2</td>\n      <td>1</td>\n    </tr>\n    <tr>\n      <th>1</th>\n      <td>4</td>\n      <td>4</td>\n      <td>4</td>\n      <td>4</td>\n      <td>4</td>\n      <td>0</td>\n      <td>0</td>\n      <td>4</td>\n      <td>4</td>\n      <td>4</td>\n      <td>...</td>\n      <td>2</td>\n      <td>2</td>\n      <td>2</td>\n      <td>3</td>\n      <td>4</td>\n      <td>4</td>\n      <td>4</td>\n      <td>4</td>\n      <td>2</td>\n      <td>2</td>\n    </tr>\n    <tr>\n      <th>2</th>\n      <td>2</td>\n      <td>2</td>\n      <td>2</td>\n      <td>2</td>\n      <td>1</td>\n      <td>3</td>\n      <td>2</td>\n      <td>1</td>\n      <td>1</td>\n      <td>2</td>\n      <td>...</td>\n      <td>2</td>\n      <td>3</td>\n      <td>2</td>\n      <td>3</td>\n      <td>1</td>\n      <td>1</td>\n      <td>1</td>\n      <td>2</td>\n      <td>2</td>\n      <td>2</td>\n    </tr>\n    <tr>\n      <th>3</th>\n      <td>3</td>\n      <td>2</td>\n      <td>3</td>\n      <td>2</td>\n      <td>3</td>\n      <td>3</td>\n      <td>3</td>\n      <td>3</td>\n      <td>3</td>\n      <td>3</td>\n      <td>...</td>\n      <td>3</td>\n      <td>2</td>\n      <td>2</td>\n      <td>3</td>\n      <td>3</td>\n      <td>3</td>\n      <td>3</td>\n      <td>2</td>\n      <td>2</td>\n      <td>2</td>\n    </tr>\n    <tr>\n      <th>4</th>\n      <td>2</td>\n      <td>2</td>\n      <td>1</td>\n      <td>1</td>\n      <td>1</td>\n      <td>1</td>\n      <td>0</td>\n      <td>0</td>\n      <td>0</td>\n      <td>0</td>\n      <td>...</td>\n      <td>2</td>\n      <td>2</td>\n      <td>1</td>\n      <td>2</td>\n      <td>3</td>\n      <td>2</td>\n      <td>2</td>\n      <td>2</td>\n      <td>1</td>\n      <td>0</td>\n    </tr>\n  </tbody>\n</table>\n<p>5 rows × 54 columns</p>\n</div>",
            "text/plain": "   Atr1  Atr2  Atr3  Atr4  Atr5  Atr6  Atr7  Atr8  Atr9  Atr10  ...    Atr45  \\\n0     2     2     4     1     0     0     0     0     0      0  ...        3   \n1     4     4     4     4     4     0     0     4     4      4  ...        2   \n2     2     2     2     2     1     3     2     1     1      2  ...        2   \n3     3     2     3     2     3     3     3     3     3      3  ...        3   \n4     2     2     1     1     1     1     0     0     0      0  ...        2   \n\n   Atr46  Atr47  Atr48  Atr49  Atr50  Atr51  Atr52  Atr53  Atr54  \n0      2      1      3      3      3      2      3      2      1  \n1      2      2      3      4      4      4      4      2      2  \n2      3      2      3      1      1      1      2      2      2  \n3      2      2      3      3      3      3      2      2      2  \n4      2      1      2      3      2      2      2      1      0  \n\n[5 rows x 54 columns]"
          },
          "metadata": {}
        }
      ]
    },
    {
      "metadata": {
        "trusted": true
      },
      "cell_type": "code",
      "source": "Y = data.iloc[:,-1]",
      "execution_count": 37,
      "outputs": []
    },
    {
      "metadata": {
        "scrolled": true,
        "trusted": true
      },
      "cell_type": "code",
      "source": "Y.head()",
      "execution_count": 38,
      "outputs": [
        {
          "output_type": "execute_result",
          "execution_count": 38,
          "data": {
            "text/plain": "0    1\n1    1\n2    1\n3    1\n4    1\nName: Class, dtype: int64"
          },
          "metadata": {}
        }
      ]
    },
    {
      "metadata": {
        "trusted": true
      },
      "cell_type": "code",
      "source": "X_train, X_test, y_train, y_test = train_test_split(X, Y, test_size=0.20, random_state=1)\nX_train1, X_test1, y_train1, y_test1 = train_test_split(X, Y, test_size=0.30, random_state=1)\nX_train2, X_test2, y_train2, y_test2 = train_test_split(X, Y, test_size=0.40, random_state=1)",
      "execution_count": 39,
      "outputs": []
    },
    {
      "metadata": {
        "trusted": true
      },
      "cell_type": "code",
      "source": "import seaborn as sns\nauto_data = data\ncorr = auto_data.corr()\nsns.heatmap(corr, \n xticklabels=corr.columns,\n yticklabels=corr.columns)",
      "execution_count": 40,
      "outputs": [
        {
          "output_type": "execute_result",
          "execution_count": 40,
          "data": {
            "text/plain": "<matplotlib.axes._subplots.AxesSubplot at 0x7f4aebd69ef0>"
          },
          "metadata": {}
        },
        {
          "output_type": "display_data",
          "data": {
            "image/png": "[encoded data removed]",
            "text/plain": "<matplotlib.figure.Figure at 0x7f4aebdaa9b0>"
          },
          "metadata": {}
        }
      ]
    },
    {
      "metadata": {},
      "cell_type": "markdown",
      "source": "# Perceptron"
    },
    {
      "metadata": {
        "trusted": true
      },
      "cell_type": "code",
      "source": "pn1 = Perceptron(tol=1e-3, random_state=0)\npn2 = Perceptron(tol=1e-3, random_state=0)\npn3 = Perceptron(tol=1e-3, random_state=0)\n\npn1.fit(X_train, y_train)\npn2.fit(X_train1,y_train1)\npn3.fit(X_train2,y_train2)",
      "execution_count": 41,
      "outputs": [
        {
          "output_type": "execute_result",
          "execution_count": 41,
          "data": {
            "text/plain": "Perceptron(alpha=0.0001, class_weight=None, eta0=1.0, fit_intercept=True,\n      max_iter=None, n_iter=None, n_jobs=1, penalty=None, random_state=0,\n      shuffle=True, tol=0.001, verbose=0, warm_start=False)"
          },
          "metadata": {}
        }
      ]
    },
    {
      "metadata": {
        "trusted": true
      },
      "cell_type": "code",
      "source": "from sklearn.metrics import confusion_matrix\ncmmmm1 = confusion_matrix(y_test,pn1.predict(X_test))\ncmmmm2 = confusion_matrix(y_test1,pn2.predict(X_test1))\ncmmmm3 = confusion_matrix(y_test2,pn3.predict(X_test2))\nprint(cmmmm1)\nprint(cmmmm2)\nprint(cmmmm3)",
      "execution_count": 42,
      "outputs": [
        {
          "output_type": "stream",
          "text": "[[18  1]\n [ 1 14]]\n[[23  0]\n [ 2 26]]\n[[33  1]\n [ 2 32]]\n",
          "name": "stdout"
        }
      ]
    },
    {
      "metadata": {
        "trusted": true
      },
      "cell_type": "code",
      "source": "ee=accuracy_score(y_test,pn1.predict(X_test))\nrr=accuracy_score(y_test1,pn2.predict(X_test1))\ncc=accuracy_score(y_test2,pn3.predict(X_test2))",
      "execution_count": 43,
      "outputs": []
    },
    {
      "metadata": {
        "trusted": true
      },
      "cell_type": "code",
      "source": "print(ee,rr,cc)",
      "execution_count": 44,
      "outputs": [
        {
          "output_type": "stream",
          "text": "0.9411764705882353 0.9607843137254902 0.9558823529411765\n",
          "name": "stdout"
        }
      ]
    },
    {
      "metadata": {},
      "cell_type": "markdown",
      "source": "# Random Forest Classifier"
    },
    {
      "metadata": {
        "trusted": false
      },
      "cell_type": "code",
      "source": "clf1=RandomForestClassifier()\nclf2=RandomForestClassifier()\nclf3=RandomForestClassifier()\n\nclf1.fit(X_train,y_train)\nclf2.fit(X_train1,y_train1)\nclf3.fit(X_train2,y_train2)",
      "execution_count": 19,
      "outputs": [
        {
          "name": "stderr",
          "output_type": "stream",
          "text": "/Library/Frameworks/Python.framework/Versions/3.7/lib/python3.7/site-packages/sklearn/ensemble/forest.py:248: FutureWarning: The default value of n_estimators will change from 10 in version 0.20 to 100 in 0.22.\n  \"10 in version 0.20 to 100 in 0.22.\", FutureWarning)\n/Library/Frameworks/Python.framework/Versions/3.7/lib/python3.7/site-packages/sklearn/ensemble/forest.py:248: FutureWarning: The default value of n_estimators will change from 10 in version 0.20 to 100 in 0.22.\n  \"10 in version 0.20 to 100 in 0.22.\", FutureWarning)\n/Library/Frameworks/Python.framework/Versions/3.7/lib/python3.7/site-packages/sklearn/ensemble/forest.py:248: FutureWarning: The default value of n_estimators will change from 10 in version 0.20 to 100 in 0.22.\n  \"10 in version 0.20 to 100 in 0.22.\", FutureWarning)\n"
        },
        {
          "data": {
            "text/plain": "RandomForestClassifier(bootstrap=True, class_weight=None, criterion='gini',\n            max_depth=None, max_features='auto', max_leaf_nodes=None,\n            min_impurity_decrease=0.0, min_impurity_split=None,\n            min_samples_leaf=1, min_samples_split=2,\n            min_weight_fraction_leaf=0.0, n_estimators=10, n_jobs=None,\n            oob_score=False, random_state=None, verbose=0,\n            warm_start=False)"
          },
          "execution_count": 19,
          "metadata": {},
          "output_type": "execute_result"
        }
      ]
    },
    {
      "metadata": {
        "trusted": false
      },
      "cell_type": "code",
      "source": "# Comfusion Matrix ",
      "execution_count": 47,
      "outputs": []
    },
    {
      "metadata": {
        "trusted": false
      },
      "cell_type": "code",
      "source": "cmmmmm1 = confusion_matrix(y_test,clf1.predict(X_test))\ncmmmmm2 = confusion_matrix(y_test1,clf2.predict(X_test1))\ncmmmmm3 = confusion_matrix(y_test2,clf3.predict(X_test2))\nprint(cmmmmm1)\nprint(cmmmmm2)\nprint(cmmmmm3)",
      "execution_count": 42,
      "outputs": [
        {
          "name": "stdout",
          "output_type": "stream",
          "text": "[[19  0]\n [ 2 13]]\n[[23  0]\n [ 2 26]]\n[[34  0]\n [ 2 32]]\n"
        }
      ]
    },
    {
      "metadata": {
        "trusted": false
      },
      "cell_type": "code",
      "source": "a=accuracy_score(y_test,clf1.predict(X_test))\nb=accuracy_score(y_test1,clf2.predict(X_test1))\nc=accuracy_score(y_test2,clf3.predict(X_test2))",
      "execution_count": 22,
      "outputs": []
    },
    {
      "metadata": {
        "trusted": false
      },
      "cell_type": "code",
      "source": "print(a,b,c)",
      "execution_count": 23,
      "outputs": [
        {
          "name": "stdout",
          "output_type": "stream",
          "text": "0.9411764705882353 0.9607843137254902 0.9705882352941176\n"
        }
      ]
    },
    {
      "metadata": {},
      "cell_type": "markdown",
      "source": "# Naive Bayes Classifier"
    },
    {
      "metadata": {
        "trusted": false
      },
      "cell_type": "code",
      "source": "gnb1 = GaussianNB()\ngnb2 = GaussianNB()\ngnb3 = GaussianNB()\n\ngnb1.fit(X_train,y_train)\ngnb2.fit(X_train1,y_train1)\ngnb3.fit(X_train2,y_train2)",
      "execution_count": 24,
      "outputs": [
        {
          "data": {
            "text/plain": "GaussianNB(priors=None, var_smoothing=1e-09)"
          },
          "execution_count": 24,
          "metadata": {},
          "output_type": "execute_result"
        }
      ]
    },
    {
      "metadata": {
        "trusted": false
      },
      "cell_type": "code",
      "source": "# Comfusion Matrix ",
      "execution_count": 46,
      "outputs": []
    },
    {
      "metadata": {
        "trusted": false
      },
      "cell_type": "code",
      "source": "cmmmm1 = confusion_matrix(y_test,gnb1.predict(X_test))\ncmmmm2 = confusion_matrix(y_test1,gnb2.predict(X_test1))\ncmmmm3 = confusion_matrix(y_test2,gnb3.predict(X_test2))\nprint(cmmmm1)\nprint(cmmmm2)\nprint(cmmmm3)",
      "execution_count": 41,
      "outputs": [
        {
          "name": "stdout",
          "output_type": "stream",
          "text": "[[19  0]\n [ 2 13]]\n[[23  0]\n [ 2 26]]\n[[34  0]\n [ 2 32]]\n"
        }
      ]
    },
    {
      "metadata": {
        "trusted": false
      },
      "cell_type": "code",
      "source": "d=accuracy_score(y_test,gnb1.predict(X_test))\ne=accuracy_score(y_test1,gnb2.predict(X_test1))\nf=accuracy_score(y_test2,gnb3.predict(X_test2))\n\nprint(d,e,f)",
      "execution_count": 25,
      "outputs": [
        {
          "name": "stdout",
          "output_type": "stream",
          "text": "0.9411764705882353 0.9607843137254902 0.9705882352941176\n"
        }
      ]
    },
    {
      "metadata": {},
      "cell_type": "markdown",
      "source": "# Support Vector Machine "
    },
    {
      "metadata": {
        "trusted": false
      },
      "cell_type": "code",
      "source": "cl1 = svm.SVC(gamma='scale')\ncl2 = svm.SVC(gamma='scale')\ncl3 = svm.SVC(gamma='scale')\n\ncl1.fit(X_train,y_train)\ncl2.fit(X_train1,y_train1)\ncl3.fit(X_train2,y_train2)",
      "execution_count": 26,
      "outputs": [
        {
          "data": {
            "text/plain": "SVC(C=1.0, cache_size=200, class_weight=None, coef0=0.0,\n  decision_function_shape='ovr', degree=3, gamma='scale', kernel='rbf',\n  max_iter=-1, probability=False, random_state=None, shrinking=True,\n  tol=0.001, verbose=False)"
          },
          "execution_count": 26,
          "metadata": {},
          "output_type": "execute_result"
        }
      ]
    },
    {
      "metadata": {
        "trusted": false
      },
      "cell_type": "code",
      "source": "# Comfusion Matrix ",
      "execution_count": 45,
      "outputs": []
    },
    {
      "metadata": {
        "trusted": false
      },
      "cell_type": "code",
      "source": "cmmm1 = confusion_matrix(y_test,cl1.predict(X_test))\ncmmm2 = confusion_matrix(y_test1,cl2.predict(X_test1))\ncmmm3 = confusion_matrix(y_test2,cl3.predict(X_test2))\nprint(cmmm1)\nprint(cmmm2)\nprint(cmmm3)",
      "execution_count": 40,
      "outputs": [
        {
          "name": "stdout",
          "output_type": "stream",
          "text": "[[19  0]\n [ 2 13]]\n[[23  0]\n [ 2 26]]\n[[34  0]\n [ 2 32]]\n"
        }
      ]
    },
    {
      "metadata": {
        "trusted": false
      },
      "cell_type": "code",
      "source": "g=accuracy_score(y_test,cl1.predict(X_test))\nh=accuracy_score(y_test1,cl2.predict(X_test1))\ni=accuracy_score(y_test2,cl3.predict(X_test2))\n\nprint(g,h,i)",
      "execution_count": 27,
      "outputs": [
        {
          "name": "stdout",
          "output_type": "stream",
          "text": "0.9411764705882353 0.9607843137254902 0.9705882352941176\n"
        }
      ]
    },
    {
      "metadata": {},
      "cell_type": "markdown",
      "source": "# Logistic Regression\n"
    },
    {
      "metadata": {
        "scrolled": true,
        "trusted": false
      },
      "cell_type": "code",
      "source": "result1 = LogisticRegression(random_state = 0)\nresult2 = LogisticRegression(random_state = 0)\nresult3 = LogisticRegression(random_state = 0)\n\nresult1.fit(X_train,y_train)\nresult2.fit(X_train1,y_train1)\nresult3.fit(X_train2,y_train2)\n\n",
      "execution_count": 28,
      "outputs": [
        {
          "name": "stderr",
          "output_type": "stream",
          "text": "/Library/Frameworks/Python.framework/Versions/3.7/lib/python3.7/site-packages/sklearn/linear_model/logistic.py:432: FutureWarning: Default solver will be changed to 'lbfgs' in 0.22. Specify a solver to silence this warning.\n  FutureWarning)\n/Library/Frameworks/Python.framework/Versions/3.7/lib/python3.7/site-packages/sklearn/linear_model/logistic.py:432: FutureWarning: Default solver will be changed to 'lbfgs' in 0.22. Specify a solver to silence this warning.\n  FutureWarning)\n/Library/Frameworks/Python.framework/Versions/3.7/lib/python3.7/site-packages/sklearn/linear_model/logistic.py:432: FutureWarning: Default solver will be changed to 'lbfgs' in 0.22. Specify a solver to silence this warning.\n  FutureWarning)\n"
        },
        {
          "data": {
            "text/plain": "LogisticRegression(C=1.0, class_weight=None, dual=False, fit_intercept=True,\n          intercept_scaling=1, max_iter=100, multi_class='warn',\n          n_jobs=None, penalty='l2', random_state=0, solver='warn',\n          tol=0.0001, verbose=0, warm_start=False)"
          },
          "execution_count": 28,
          "metadata": {},
          "output_type": "execute_result"
        }
      ]
    },
    {
      "metadata": {
        "trusted": false
      },
      "cell_type": "code",
      "source": "# Comfusion Matrix ",
      "execution_count": 44,
      "outputs": []
    },
    {
      "metadata": {
        "trusted": false
      },
      "cell_type": "code",
      "source": "cmm1 = confusion_matrix(y_test,result.predict(X_test))\ncmm2 = confusion_matrix(y_test1,result.predict(X_test1))\ncmm3 = confusion_matrix(y_test2,result.predict(X_test2))\nprint(cmm1)\nprint(cmm2)\nprint(cmm3)",
      "execution_count": 39,
      "outputs": [
        {
          "name": "stdout",
          "output_type": "stream",
          "text": "[[19  0]\n [ 2 13]]\n[[23  0]\n [ 2 26]]\n[[34  0]\n [ 2 32]]\n"
        }
      ]
    },
    {
      "metadata": {
        "trusted": false
      },
      "cell_type": "code",
      "source": "j=accuracy_score(y_test,result.predict(X_test))\nk=accuracy_score(y_test1,result.predict(X_test1))\nl=accuracy_score(y_test2,result.predict(X_test2))\nprint(j,k,l)",
      "execution_count": 29,
      "outputs": [
        {
          "name": "stdout",
          "output_type": "stream",
          "text": "0.9411764705882353 0.9607843137254902 0.9705882352941176\n"
        }
      ]
    },
    {
      "metadata": {},
      "cell_type": "markdown",
      "source": "# Decision Tree "
    },
    {
      "metadata": {
        "scrolled": true,
        "trusted": false
      },
      "cell_type": "code",
      "source": "clff1 = DecisionTreeClassifier(random_state=0)\nclff2 = DecisionTreeClassifier(random_state=0)\nclff3 = DecisionTreeClassifier(random_state=0)\n\nclff1.fit(X_train,y_train)\nclff2.fit(X_train1,y_train1)\nclff3.fit(X_train2,y_train2)\n\n",
      "execution_count": 31,
      "outputs": [
        {
          "data": {
            "text/plain": "DecisionTreeClassifier(class_weight=None, criterion='gini', max_depth=None,\n            max_features=None, max_leaf_nodes=None,\n            min_impurity_decrease=0.0, min_impurity_split=None,\n            min_samples_leaf=1, min_samples_split=2,\n            min_weight_fraction_leaf=0.0, presort=False, random_state=0,\n            splitter='best')"
          },
          "execution_count": 31,
          "metadata": {},
          "output_type": "execute_result"
        }
      ]
    },
    {
      "metadata": {
        "trusted": false
      },
      "cell_type": "code",
      "source": "# Comfusion Matrix ",
      "execution_count": 43,
      "outputs": []
    },
    {
      "metadata": {
        "trusted": false
      },
      "cell_type": "code",
      "source": "from sklearn.metrics import confusion_matrix\ncm1 = confusion_matrix(y_test,clff1.predict(X_test))\ncm2 = confusion_matrix(y_test1,clff2.predict(X_test1))\ncm3 = confusion_matrix(y_test2,clff3.predict(X_test2))\nprint(cm1)\nprint(cm2)\nprint(cm3)",
      "execution_count": 38,
      "outputs": [
        {
          "name": "stdout",
          "output_type": "stream",
          "text": "[[19  0]\n [ 2 13]]\n[[23  0]\n [ 2 26]]\n[[33  1]\n [ 2 32]]\n"
        }
      ]
    },
    {
      "metadata": {
        "trusted": false
      },
      "cell_type": "code",
      "source": "m=accuracy_score(y_test,clff1.predict(X_test))\nn=accuracy_score(y_test1,clff2.predict(X_test1))\no=accuracy_score(y_test2,clff3.predict(X_test2))\n\nprint(m,n,o)",
      "execution_count": 32,
      "outputs": [
        {
          "name": "stdout",
          "output_type": "stream",
          "text": "0.9411764705882353 0.9607843137254902 0.9558823529411765\n"
        }
      ]
    },
    {
      "metadata": {},
      "cell_type": "markdown",
      "source": "# Neural Network"
    },
    {
      "metadata": {
        "trusted": false
      },
      "cell_type": "code",
      "source": "y_train.shape",
      "execution_count": 49,
      "outputs": [
        {
          "data": {
            "text/plain": "(136,)"
          },
          "execution_count": 49,
          "metadata": {},
          "output_type": "execute_result"
        }
      ]
    },
    {
      "metadata": {
        "trusted": false
      },
      "cell_type": "code",
      "source": "X_test.shape",
      "execution_count": 50,
      "outputs": [
        {
          "data": {
            "text/plain": "(34, 54)"
          },
          "execution_count": 50,
          "metadata": {},
          "output_type": "execute_result"
        }
      ]
    },
    {
      "metadata": {
        "trusted": false
      },
      "cell_type": "code",
      "source": "y_test.shape",
      "execution_count": 51,
      "outputs": [
        {
          "data": {
            "text/plain": "(34,)"
          },
          "execution_count": 51,
          "metadata": {},
          "output_type": "execute_result"
        }
      ]
    },
    {
      "metadata": {
        "trusted": false
      },
      "cell_type": "code",
      "source": "from keras.models import Sequential\nfrom keras.utils import np_utils\nfrom keras.layers import Dense, Activation",
      "execution_count": 52,
      "outputs": [
        {
          "name": "stderr",
          "output_type": "stream",
          "text": "Using TensorFlow backend.\n"
        }
      ]
    },
    {
      "metadata": {
        "trusted": false
      },
      "cell_type": "code",
      "source": "model=Sequential()\n\n\nmodel.add(Dense(16,input_shape=(54,)))\nmodel.add(Activation('relu'))\nmodel.add(Dense(16))\nmodel.add(Activation('relu'))\nmodel.add(Dense(8))\nmodel.add(Activation('relu'))\nmodel.add(Dense(4))\nmodel.add(Activation('relu'))\nmodel.add(Dense(4))\nmodel.add(Activation('relu'))\nmodel.add(Dense(1))\nmodel.add(Activation('sigmoid'))\nmodel.summary()",
      "execution_count": 72,
      "outputs": [
        {
          "name": "stdout",
          "output_type": "stream",
          "text": "_________________________________________________________________\nLayer (type)                 Output Shape              Param #   \n=================================================================\ndense_40 (Dense)             (None, 16)                880       \n_________________________________________________________________\nactivation_40 (Activation)   (None, 16)                0         \n_________________________________________________________________\ndense_41 (Dense)             (None, 16)                272       \n_________________________________________________________________\nactivation_41 (Activation)   (None, 16)                0         \n_________________________________________________________________\ndense_42 (Dense)             (None, 8)                 136       \n_________________________________________________________________\nactivation_42 (Activation)   (None, 8)                 0         \n_________________________________________________________________\ndense_43 (Dense)             (None, 4)                 36        \n_________________________________________________________________\nactivation_43 (Activation)   (None, 4)                 0         \n_________________________________________________________________\ndense_44 (Dense)             (None, 4)                 20        \n_________________________________________________________________\nactivation_44 (Activation)   (None, 4)                 0         \n_________________________________________________________________\ndense_45 (Dense)             (None, 1)                 5         \n_________________________________________________________________\nactivation_45 (Activation)   (None, 1)                 0         \n=================================================================\nTotal params: 1,349\nTrainable params: 1,349\nNon-trainable params: 0\n_________________________________________________________________\n"
        }
      ]
    },
    {
      "metadata": {
        "trusted": false
      },
      "cell_type": "code",
      "source": "model.compile(optimizer='adam',loss='binary_crossentropy',metrics=['accuracy'])\n",
      "execution_count": 70,
      "outputs": []
    },
    {
      "metadata": {
        "trusted": false
      },
      "cell_type": "code",
      "source": "model.fit(X_train1,y_train1,10,100,verbose=2,validation_data=(X_test1,y_test1))",
      "execution_count": 71,
      "outputs": [
        {
          "name": "stdout",
          "output_type": "stream",
          "text": "Train on 119 samples, validate on 51 samples\nEpoch 1/100\n - 0s - loss: 8.4401 - acc: 0.4706 - val_loss: 7.1897 - val_acc: 0.5490\nEpoch 2/100\n - 0s - loss: 8.4401 - acc: 0.4706 - val_loss: 7.1897 - val_acc: 0.5490\nEpoch 3/100\n - 0s - loss: 8.4401 - acc: 0.4706 - val_loss: 7.1897 - val_acc: 0.5490\nEpoch 4/100\n - 0s - loss: 8.4401 - acc: 0.4706 - val_loss: 7.1897 - val_acc: 0.5490\nEpoch 5/100\n - 0s - loss: 8.4401 - acc: 0.4706 - val_loss: 7.1897 - val_acc: 0.5490\nEpoch 6/100\n - 0s - loss: 8.4401 - acc: 0.4706 - val_loss: 7.1897 - val_acc: 0.5490\nEpoch 7/100\n - 0s - loss: 8.4401 - acc: 0.4706 - val_loss: 7.1897 - val_acc: 0.5490\nEpoch 8/100\n - 0s - loss: 8.4401 - acc: 0.4706 - val_loss: 7.1897 - val_acc: 0.5490\nEpoch 9/100\n - 0s - loss: 8.4401 - acc: 0.4706 - val_loss: 7.1897 - val_acc: 0.5490\nEpoch 10/100\n - 0s - loss: 8.4401 - acc: 0.4706 - val_loss: 7.1897 - val_acc: 0.5490\nEpoch 11/100\n - 0s - loss: 8.4401 - acc: 0.4706 - val_loss: 7.1897 - val_acc: 0.5490\nEpoch 12/100\n - 0s - loss: 8.4401 - acc: 0.4706 - val_loss: 7.1897 - val_acc: 0.5490\nEpoch 13/100\n - 0s - loss: 8.4401 - acc: 0.4706 - val_loss: 7.1897 - val_acc: 0.5490\nEpoch 14/100\n - 0s - loss: 8.4401 - acc: 0.4706 - val_loss: 7.1897 - val_acc: 0.5490\nEpoch 15/100\n - 0s - loss: 8.4401 - acc: 0.4706 - val_loss: 7.1897 - val_acc: 0.5490\nEpoch 16/100\n - 0s - loss: 8.4401 - acc: 0.4706 - val_loss: 7.1897 - val_acc: 0.5490\nEpoch 17/100\n - 0s - loss: 8.4401 - acc: 0.4706 - val_loss: 7.1897 - val_acc: 0.5490\nEpoch 18/100\n - 0s - loss: 8.4401 - acc: 0.4706 - val_loss: 7.1897 - val_acc: 0.5490\nEpoch 19/100\n - 0s - loss: 8.4401 - acc: 0.4706 - val_loss: 7.1897 - val_acc: 0.5490\nEpoch 20/100\n - 0s - loss: 8.4401 - acc: 0.4706 - val_loss: 7.1897 - val_acc: 0.5490\nEpoch 21/100\n - 0s - loss: 8.4401 - acc: 0.4706 - val_loss: 7.1897 - val_acc: 0.5490\nEpoch 22/100\n - 0s - loss: 8.4401 - acc: 0.4706 - val_loss: 7.1897 - val_acc: 0.5490\nEpoch 23/100\n - 0s - loss: 8.4401 - acc: 0.4706 - val_loss: 7.1897 - val_acc: 0.5490\nEpoch 24/100\n - 0s - loss: 8.4401 - acc: 0.4706 - val_loss: 7.1897 - val_acc: 0.5490\nEpoch 25/100\n - 0s - loss: 8.4401 - acc: 0.4706 - val_loss: 7.1897 - val_acc: 0.5490\nEpoch 26/100\n - 0s - loss: 8.4401 - acc: 0.4706 - val_loss: 7.1897 - val_acc: 0.5490\nEpoch 27/100\n - 0s - loss: 8.4401 - acc: 0.4706 - val_loss: 7.1897 - val_acc: 0.5490\nEpoch 28/100\n - 0s - loss: 8.4401 - acc: 0.4706 - val_loss: 7.1897 - val_acc: 0.5490\nEpoch 29/100\n - 0s - loss: 8.4401 - acc: 0.4706 - val_loss: 7.1897 - val_acc: 0.5490\nEpoch 30/100\n - 0s - loss: 8.4401 - acc: 0.4706 - val_loss: 7.1897 - val_acc: 0.5490\nEpoch 31/100\n - 0s - loss: 8.4401 - acc: 0.4706 - val_loss: 7.1897 - val_acc: 0.5490\nEpoch 32/100\n - 0s - loss: 8.4401 - acc: 0.4706 - val_loss: 7.1897 - val_acc: 0.5490\nEpoch 33/100\n - 0s - loss: 8.4401 - acc: 0.4706 - val_loss: 7.1897 - val_acc: 0.5490\nEpoch 34/100\n - 0s - loss: 8.4401 - acc: 0.4706 - val_loss: 7.1897 - val_acc: 0.5490\nEpoch 35/100\n - 0s - loss: 8.4401 - acc: 0.4706 - val_loss: 7.1897 - val_acc: 0.5490\nEpoch 36/100\n - 0s - loss: 8.4401 - acc: 0.4706 - val_loss: 7.1897 - val_acc: 0.5490\nEpoch 37/100\n - 0s - loss: 8.4401 - acc: 0.4706 - val_loss: 7.1897 - val_acc: 0.5490\nEpoch 38/100\n - 0s - loss: 8.4401 - acc: 0.4706 - val_loss: 7.1897 - val_acc: 0.5490\nEpoch 39/100\n - 0s - loss: 8.4401 - acc: 0.4706 - val_loss: 7.1897 - val_acc: 0.5490\nEpoch 40/100\n - 0s - loss: 8.4401 - acc: 0.4706 - val_loss: 7.1897 - val_acc: 0.5490\nEpoch 41/100\n - 0s - loss: 8.4401 - acc: 0.4706 - val_loss: 7.1897 - val_acc: 0.5490\nEpoch 42/100\n - 0s - loss: 8.4401 - acc: 0.4706 - val_loss: 7.1897 - val_acc: 0.5490\nEpoch 43/100\n - 0s - loss: 8.4401 - acc: 0.4706 - val_loss: 7.1897 - val_acc: 0.5490\nEpoch 44/100\n - 0s - loss: 8.4401 - acc: 0.4706 - val_loss: 7.1897 - val_acc: 0.5490\nEpoch 45/100\n - 0s - loss: 8.4401 - acc: 0.4706 - val_loss: 7.1897 - val_acc: 0.5490\nEpoch 46/100\n - 0s - loss: 8.4401 - acc: 0.4706 - val_loss: 7.1897 - val_acc: 0.5490\nEpoch 47/100\n - 0s - loss: 8.4401 - acc: 0.4706 - val_loss: 7.1897 - val_acc: 0.5490\nEpoch 48/100\n - 0s - loss: 8.4401 - acc: 0.4706 - val_loss: 7.1897 - val_acc: 0.5490\nEpoch 49/100\n - 0s - loss: 8.4401 - acc: 0.4706 - val_loss: 7.1897 - val_acc: 0.5490\nEpoch 50/100\n - 0s - loss: 8.4401 - acc: 0.4706 - val_loss: 7.1897 - val_acc: 0.5490\nEpoch 51/100\n - 0s - loss: 8.4401 - acc: 0.4706 - val_loss: 7.1897 - val_acc: 0.5490\nEpoch 52/100\n - 0s - loss: 8.4401 - acc: 0.4706 - val_loss: 7.1897 - val_acc: 0.5490\nEpoch 53/100\n - 0s - loss: 8.4401 - acc: 0.4706 - val_loss: 7.1897 - val_acc: 0.5490\nEpoch 54/100\n - 0s - loss: 8.4401 - acc: 0.4706 - val_loss: 7.1897 - val_acc: 0.5490\nEpoch 55/100\n - 0s - loss: 8.4401 - acc: 0.4706 - val_loss: 7.1897 - val_acc: 0.5490\nEpoch 56/100\n - 0s - loss: 8.4401 - acc: 0.4706 - val_loss: 7.1897 - val_acc: 0.5490\nEpoch 57/100\n - 0s - loss: 8.4401 - acc: 0.4706 - val_loss: 7.1897 - val_acc: 0.5490\nEpoch 58/100\n - 0s - loss: 8.4401 - acc: 0.4706 - val_loss: 7.1897 - val_acc: 0.5490\nEpoch 59/100\n - 0s - loss: 8.4401 - acc: 0.4706 - val_loss: 7.1897 - val_acc: 0.5490\nEpoch 60/100\n - 0s - loss: 8.4401 - acc: 0.4706 - val_loss: 7.1897 - val_acc: 0.5490\nEpoch 61/100\n - 0s - loss: 8.4401 - acc: 0.4706 - val_loss: 7.1897 - val_acc: 0.5490\nEpoch 62/100\n - 0s - loss: 8.4401 - acc: 0.4706 - val_loss: 7.1897 - val_acc: 0.5490\nEpoch 63/100\n - 0s - loss: 8.4401 - acc: 0.4706 - val_loss: 7.1897 - val_acc: 0.5490\nEpoch 64/100\n - 0s - loss: 8.4401 - acc: 0.4706 - val_loss: 7.1897 - val_acc: 0.5490\nEpoch 65/100\n - 0s - loss: 8.4401 - acc: 0.4706 - val_loss: 7.1897 - val_acc: 0.5490\nEpoch 66/100\n - 0s - loss: 8.4401 - acc: 0.4706 - val_loss: 7.1897 - val_acc: 0.5490\nEpoch 67/100\n - 0s - loss: 8.4401 - acc: 0.4706 - val_loss: 7.1897 - val_acc: 0.5490\nEpoch 68/100\n - 0s - loss: 8.4401 - acc: 0.4706 - val_loss: 7.1897 - val_acc: 0.5490\nEpoch 69/100\n - 0s - loss: 8.4401 - acc: 0.4706 - val_loss: 7.1897 - val_acc: 0.5490\nEpoch 70/100\n - 0s - loss: 8.4401 - acc: 0.4706 - val_loss: 7.1897 - val_acc: 0.5490\nEpoch 71/100\n - 0s - loss: 8.4401 - acc: 0.4706 - val_loss: 7.1897 - val_acc: 0.5490\nEpoch 72/100\n - 0s - loss: 8.4401 - acc: 0.4706 - val_loss: 7.1897 - val_acc: 0.5490\nEpoch 73/100\n - 0s - loss: 8.4401 - acc: 0.4706 - val_loss: 7.1897 - val_acc: 0.5490\nEpoch 74/100\n - 0s - loss: 8.4401 - acc: 0.4706 - val_loss: 7.1897 - val_acc: 0.5490\nEpoch 75/100\n - 0s - loss: 8.4401 - acc: 0.4706 - val_loss: 7.1897 - val_acc: 0.5490\nEpoch 76/100\n - 0s - loss: 8.4401 - acc: 0.4706 - val_loss: 7.1897 - val_acc: 0.5490\nEpoch 77/100\n - 0s - loss: 8.4401 - acc: 0.4706 - val_loss: 7.1897 - val_acc: 0.5490\nEpoch 78/100\n - 0s - loss: 8.4401 - acc: 0.4706 - val_loss: 7.1897 - val_acc: 0.5490\nEpoch 79/100\n - 0s - loss: 8.4401 - acc: 0.4706 - val_loss: 7.1897 - val_acc: 0.5490\nEpoch 80/100\n - 0s - loss: 8.4401 - acc: 0.4706 - val_loss: 7.1897 - val_acc: 0.5490\nEpoch 81/100\n - 0s - loss: 8.4401 - acc: 0.4706 - val_loss: 7.1897 - val_acc: 0.5490\nEpoch 82/100\n - 0s - loss: 8.4401 - acc: 0.4706 - val_loss: 7.1897 - val_acc: 0.5490\nEpoch 83/100\n - 0s - loss: 8.4401 - acc: 0.4706 - val_loss: 7.1897 - val_acc: 0.5490\nEpoch 84/100\n - 0s - loss: 8.4401 - acc: 0.4706 - val_loss: 7.1897 - val_acc: 0.5490\nEpoch 85/100\n - 0s - loss: 8.4401 - acc: 0.4706 - val_loss: 7.1897 - val_acc: 0.5490\nEpoch 86/100\n - 0s - loss: 8.4401 - acc: 0.4706 - val_loss: 7.1897 - val_acc: 0.5490\nEpoch 87/100\n - 0s - loss: 8.4401 - acc: 0.4706 - val_loss: 7.1897 - val_acc: 0.5490\nEpoch 88/100\n - 0s - loss: 8.4401 - acc: 0.4706 - val_loss: 7.1897 - val_acc: 0.5490\nEpoch 89/100\n - 0s - loss: 8.4401 - acc: 0.4706 - val_loss: 7.1897 - val_acc: 0.5490\nEpoch 90/100\n - 0s - loss: 8.4401 - acc: 0.4706 - val_loss: 7.1897 - val_acc: 0.5490\nEpoch 91/100\n - 0s - loss: 8.4401 - acc: 0.4706 - val_loss: 7.1897 - val_acc: 0.5490\nEpoch 92/100\n - 0s - loss: 8.4401 - acc: 0.4706 - val_loss: 7.1897 - val_acc: 0.5490\nEpoch 93/100\n - 0s - loss: 8.4401 - acc: 0.4706 - val_loss: 7.1897 - val_acc: 0.5490\nEpoch 94/100\n - 0s - loss: 8.4401 - acc: 0.4706 - val_loss: 7.1897 - val_acc: 0.5490\nEpoch 95/100\n - 0s - loss: 8.4401 - acc: 0.4706 - val_loss: 7.1897 - val_acc: 0.5490\nEpoch 96/100\n - 0s - loss: 8.4401 - acc: 0.4706 - val_loss: 7.1897 - val_acc: 0.5490\n"
        },
        {
          "name": "stdout",
          "output_type": "stream",
          "text": "Epoch 97/100\n - 0s - loss: 8.4401 - acc: 0.4706 - val_loss: 7.1897 - val_acc: 0.5490\nEpoch 98/100\n - 0s - loss: 8.4401 - acc: 0.4706 - val_loss: 7.1897 - val_acc: 0.5490\nEpoch 99/100\n - 0s - loss: 8.4401 - acc: 0.4706 - val_loss: 7.1897 - val_acc: 0.5490\nEpoch 100/100\n - 0s - loss: 8.4401 - acc: 0.4706 - val_loss: 7.1897 - val_acc: 0.5490\n"
        },
        {
          "data": {
            "text/plain": "<keras.callbacks.History at 0x10fa8db38>"
          },
          "execution_count": 71,
          "metadata": {},
          "output_type": "execute_result"
        }
      ]
    },
    {
      "metadata": {
        "trusted": false
      },
      "cell_type": "code",
      "source": "",
      "execution_count": null,
      "outputs": []
    }
  ],
  "metadata": {
    "kernelspec": {
      "name": "python3",
      "display_name": "Python 3",
      "language": "python"
    },
    "language_info": {
      "mimetype": "text/x-python",
      "nbconvert_exporter": "python",
      "name": "python",
      "pygments_lexer": "ipython3",
      "version": "3.5.4",
      "file_extension": ".py",
      "codemirror_mode": {
        "version": 3,
        "name": "ipython"
      }
    }
  },
  "nbformat": 4,
  "nbformat_minor": 2
}